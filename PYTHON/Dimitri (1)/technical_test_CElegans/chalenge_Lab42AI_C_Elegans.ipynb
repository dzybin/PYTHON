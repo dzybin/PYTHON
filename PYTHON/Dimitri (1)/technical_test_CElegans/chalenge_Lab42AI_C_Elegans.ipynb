{
 "cells": [
  {
   "cell_type": "markdown",
   "id": "2f717df4",
   "metadata": {},
   "source": [
    "# Test technique - C Elegans\n",
    "\n",
    "Dans le cadre du projet C Elegans organisé par l'association 42AI, votre candidature s'accompagne de la réalisation de ce test technique afin d'évaluer vos compétences techniques et votre capacité à résoudre des problématiques que vous n'avez pas rencontrer. Terminer totalement ce test n'est pas impérative pour être sélectionné. Sera jugé également votre esprit scientifique / logique, votre capacité à structurer vos expériences et votre pédagogie en expliquant ce que vous avez réalisé.\n",
    "\n",
    "## Durée estimée:\n",
    "Le temps estimé afin de réaliser ce test est de 2h pour une personne ayant la majorité des connaissances pour le réaliser (vous y passerez plus de temps s'il est nécessaire que vous appreniez quelques connaissances, cela est normal. Il est également normal que certains exercices soient durs). Vous bénéficiez d'une durée de 24h au moment de la communication du test afin de le retourner.\n",
    "\n",
    "Si vous tombez sur des ressources vous permettant de réaliser une question ou un exercice ou le problème ouvert, vous pouvez le mentionner et dire en quoi cette ressource vous a aidé.\n",
    "\n",
    "## Sommaire:\n",
    "\n",
    "### [Questions générales](#ss-section-1)\n",
    "\n",
    "### [Exercices basiques en python](#ss-section-2)\n",
    "\n",
    "### [Problème ouvert](#ss-section-3)\n",
    "\n",
    "Au sein de chaque partie les exercices sont organisés du plus facile au plus dur. Il **N'EST PAS** impératif de terminer une partie avant de faire la suivante. (Si vous boquez, passer à l'exercice suivant ou à la partie suivante !!)"
   ]
  },
  {
   "cell_type": "markdown",
   "id": "25d4fdf2",
   "metadata": {},
   "source": [
    "---\n",
    "---\n",
    "<a id='ss-section-1'></a>\n",
    "## Questions générales"
   ]
  },
  {
   "cell_type": "markdown",
   "id": "7be7764d",
   "metadata": {},
   "source": [
    "### Premiere question:\n",
    "En intelligence artificielle, les jeux de données utilisés afin d'entraîner des modèles de *Machine Learning* ou de *Deep Learning* sont souvent divisés en 3 parties.\n",
    "* Le premier sous-ensembles est appelé ensemble d'entraînement (*train / training set* en anglais), quel est le nom des 2 autres sous-ensembles ?\n",
    "* Quel est le rôle des 2 sous-ensembles de données que vous avez donné ?\n",
    "---"
   ]
  },
  {
   "cell_type": "markdown",
   "id": "9dc682e6",
   "metadata": {},
   "source": [
    "Les noms de deux autres sous-ensembles sont \"validation data set\" et \"test data set\".\n",
    "Le role du premier est de fournir une evaluation ajustee du modele fait avec training set et d'ajuster les hyperparametres.\n",
    "Le test data set sert pour evaluer un ajustement final du modele. "
   ]
  },
  {
   "cell_type": "markdown",
   "id": "3cfead1c",
   "metadata": {},
   "source": [
    "---\n",
    "### Deuxième question:\n",
    "Toujours en intelligence articielle, afin d'entraîner un modèle (de *Machine Learning* ou *Deep Learning*), les prédictions du modèles sont évalués vis à vis des sorties (*outputs* ou *targets*).\n",
    "\n",
    "* Comment appelle-t-on une fonction permettant de faire cette évaluation ?\n",
    "* Cité une fonction utilisée pour un problème de régression linéaire.\n",
    "* Cité une fonction utilisée pour un problème de classification.\n",
    "---"
   ]
  },
  {
   "cell_type": "markdown",
   "id": "d19fc4a3",
   "metadata": {},
   "source": [
    "*... Votre réponse ... (double cliquer sur cette cellule et éditer - le format de la cellule est du Markdown)*"
   ]
  },
  {
   "cell_type": "markdown",
   "id": "c5fc3d7e",
   "metadata": {},
   "source": [
    "---\n",
    "### Troisième question:\n",
    "Question d'ordre mathématiques. Soit une matrice $\\mathbf{M}$ à coefficients réelles, un vecteurs $V$, la matrice identié $\\mathbf{I}$ et une constante $\\lambda$ tels que:\n",
    "$$\n",
    "\\mathbf{M} = \\begin{bmatrix}\n",
    "                    x_{11} & x_{12} & x_{13} \\\\\n",
    "                    x_{21} & x_{22} & x_{23} \\\\\n",
    "                    x_{31} & x_{32} & x_{33}\n",
    "             \\end{bmatrix}\n",
    "$$\n",
    "\n",
    "$$\n",
    "V = \\begin{bmatrix} 1 \\\\ 1 \\\\ 0 \\end{bmatrix}\n",
    "$$\n",
    "\n",
    "$$\n",
    "I = \\begin{bmatrix} 1 & 0 & 0 \\\\ 0 & 1 & 0 \\\\ 0 & 0 & 1 \\end{bmatrix}\n",
    "$$\n",
    "\n",
    "$$\n",
    "\\lambda = 5\n",
    "$$\n",
    "\n",
    "* Calculer:\n",
    "$$\n",
    "(\\mathbf{M} + \\lambda \\mathbf{I}) V\n",
    "=\n",
    "\\left(\n",
    "\\begin{bmatrix}\n",
    "  x_{11} & x_{12} & x_{13} \\\\\n",
    "  x_{21} & x_{22} & x_{23} \\\\\n",
    "  x_{31} & x_{32} & x_{33}\n",
    "\\end{bmatrix}\n",
    "- 5 \\begin{bmatrix} 1 & 0 & 0 \\\\ 0 & 1 & 0 \\\\ 0 & 0 & 1\\end{bmatrix}\n",
    "\\right)\n",
    "\\cdot \n",
    "\\begin{bmatrix} 1 \\\\ 1 \\\\ 0\\end{bmatrix}\n",
    "$$\n",
    "---"
   ]
  },
  {
   "cell_type": "markdown",
   "id": "2a93af33",
   "metadata": {},
   "source": [
    "*... Votre réponse ... (double cliquer sur cette cellule et éditer - le format de la cellule est du Markdown)*\n",
    "\n",
    "*Vous pouvez remplir l'un des éléments suivants et supprimer les deux autres.*\n",
    "$$\n",
    "\\begin{bmatrix}\n",
    "... & ... & ... \\\\\n",
    "... & ... & ... \\\\\n",
    "... & ... & ...\n",
    "\\end{bmatrix}\n",
    "$$\n",
    "\n",
    "$$\n",
    "\\begin{bmatrix}\n",
    "... \\\\\n",
    "... \\\\\n",
    "...\n",
    "\\end{bmatrix}\n",
    "$$\n",
    "\n",
    "$$\n",
    "...\n",
    "$$"
   ]
  },
  {
   "cell_type": "markdown",
   "id": "73c228d6",
   "metadata": {},
   "source": [
    "---\n",
    "### Quatrième question:\n",
    "Considérons que vous êtes devant la porte d'une pièce. Dans cette pièce se trouve $10$ ampoules et chaque ampoule est strictement indépendantes les unes des autres.\n",
    "\n",
    "Chaque ampoule à une probabilité de $p = 0.7$ d'être allumée au moment où vous allez entrer dans la pièce (et donc une probabilité de $0.3$ d'être éteinte).\n",
    "\n",
    "* Quelle est la probabilité qu'une seule ampoule soit étteinte ?\n",
    "\n",
    "---"
   ]
  },
  {
   "cell_type": "markdown",
   "id": "de1da1fe",
   "metadata": {},
   "source": [
    "*... Votre réponse ... (double cliquer sur cette cellule et éditer - le format de la cellule est du Markdown)*"
   ]
  },
  {
   "cell_type": "markdown",
   "id": "267f5b7c",
   "metadata": {
    "tags": []
   },
   "source": [
    "---\n",
    "---\n",
    "<a id='ss-section-2'></a>\n",
    "## Exercices basiques en python"
   ]
  },
  {
   "cell_type": "markdown",
   "id": "6fc1c854",
   "metadata": {},
   "source": [
    "### Premiere exercice: Multiple de 3 et de 5\n",
    "\n",
    "Coder une fonction qui prend un nombre n en paramètre et qui additionne tous les multiples de 3 et 5 strictement inférieur à n.\n",
    "```python\n",
    "def sum_of_multiple_3_5(n: int) -> int:\n",
    "    ...\n",
    "```\n",
    "\n",
    "\n",
    "**Exemple:**\n",
    "```python\n",
    "sum_of_multiple_3_5(4)\n",
    "3\n",
    "\n",
    "sum_of_multiple_3_5(6)\n",
    "8\n",
    "\n",
    "sum_of_multiple_3_5(16)\n",
    "60\n",
    "\n",
    "sum_of_multiple_3_5(3)\n",
    "0\n",
    "\n",
    "sum_of_multiple_3_5(5)\n",
    "3\n",
    "\n",
    "sum_of_multiple_3_5(15)\n",
    "45\n",
    "```\n",
    "---"
   ]
  },
  {
   "cell_type": "code",
   "execution_count": null,
   "id": "d79b32ad",
   "metadata": {},
   "outputs": [],
   "source": [
    "#... Votre solution (cette cellule est au format Python)...\n",
    "def sum_of_multiple_3_5(n: int) -> int:\n",
    "    \"\"\" Coder votre fonction ici.\n",
    "    \"\"\"\n",
    "    resultat = 0\n",
    "    for i in range(1, n):\n",
    "        if i %3 == 0 or i%5 == 0 and i < n:\n",
    "            resultat += i\n",
    "    print (resultat)\n",
    "\n",
    "    pass\n"
   ]
  },
  {
   "cell_type": "markdown",
   "id": "6682e84a",
   "metadata": {},
   "source": [
    "---\n",
    "### Deuxième exercice:\n",
    "Coder une fonction qui prend un nombre entier $n$ en paramètre et qui élève chaque chiffre du nombre au carré:\n",
    "\n",
    "**Exemple**:\n",
    "* square_digit(2) donne 4\n",
    "* square_digit(8) donne 64\n",
    "* square_digit(483) donne 16649\n",
    "\n",
    "\n",
    "```python\n",
    "def square_digit(n):\n",
    "    ...\n",
    "```\n",
    "\n",
    "---"
   ]
  },
  {
   "cell_type": "code",
   "execution_count": 1,
   "id": "70002b55",
   "metadata": {},
   "outputs": [],
   "source": [
    "#... Votre solution (cette cellule est au format Python)...\n",
    "def square_digit(n) -> int:\n",
    "    s = ''\n",
    "    for i in str(n):\n",
    "        s += str(int(i)**2)\n",
    "    print(int(s)) \n",
    "    \n",
    "    pass"
   ]
  },
  {
   "cell_type": "markdown",
   "id": "bedb5d43",
   "metadata": {},
   "source": [
    "---\n",
    "\"\"\"### Troisème exercice:\n",
    "\n",
    "Soit une list d'entiers `lst_int`. Le but de l'exercice est de coder une fonction donnant l'indice $i$ où la somme des entiers à gauche de $i$ (avec l'entier à la position $i$ inclut) est égale à la somme des entiers à la droite de $i$. S'il n'y a pas d'index permettant cela, votre fonction doit retourner $-1$.\n",
    "\n",
    "python'''\"\"\"\n",
    "def balance_list_int(lst_int: list) -> int:\n",
    "    ###... Your code ...\n",
    "    \n",
    "**Exemples**\n",
    "```python\n",
    "# exemple 1\n",
    "lst_int_1 = [12]\n",
    "balance_list_int(lst_int_1)\n",
    "-1\n",
    "\n",
    "# exemple 2\n",
    "lst_int_2 = [1, 1, 2]\n",
    "balance_list_int(lst_int_2)\n",
    "1\n",
    "\n",
    "# exemple 3\n",
    "lst_int_3 = [1, 5, 0, 9, 1, 2, 8, 4]\n",
    "balance_list_int(lst_int_3)\n",
    "3\n",
    "```\n",
    "\n",
    "\n",
    "---"
   ]
  },
  {
   "cell_type": "code",
   "execution_count": null,
   "id": "d0686736",
   "metadata": {},
   "outputs": [],
   "source": [
    "#... Votre solution (cette cellule est au format Python)...\n",
    "def balance_list_int(lst_int: int) -> int:\n",
    "        \"\"\" Coder votre fonction ici.\n",
    "        \"\"\"\n",
    "        resultat = -1\n",
    "        for i in range(0, len(lst_int)):\n",
    "                aleft = 0\n",
    "                aright = 0\n",
    "                for j in range (0, i+1):\n",
    "                        aleft += lst_int[j]\n",
    "                for j in range(i + 1, len(lst_int)):\n",
    "                        aright += lst_int[j]\n",
    "                if aleft == aright:\n",
    "                        resultat = i\n",
    "                        print(resultat)\n",
    "                        exit()\n",
    "        print(resultat)\n",
    "\n",
    "\n",
    "lst_int = [1, 5, 0, 9, 1, 2, 8, 6]\n",
    "balance_list_int(lst_int)\n",
    "pass"
   ]
  },
  {
   "cell_type": "markdown",
   "id": "7f5b700a",
   "metadata": {},
   "source": [
    "---\n",
    "### Quatrième exercice:\n",
    "Soit un numpy array `grid` de shape (10,10) représentant une grille sur laquelle il peut y avoir des bombes. Coder une fonction qui calcul le nombre de bombe **autour** de chaque case de la grille.\n",
    "\n",
    "**Exemple**:\n",
    "```python\n",
    "# Exemple 1\n",
    "grid_1 = np.array([[0, 0, 0, 1, 1, 0, 0, 0, 1, 1],\n",
    "                   [0, 0, 0, 0, 0, 0, 0, 0, 0, 0],\n",
    "                   [0, 1, 0, 0, 0, 0, 0, 0, 0, 0],\n",
    "                   [0, 0, 0, 0, 0, 1, 0, 0, 0, 0],\n",
    "                   [0, 0, 1, 0, 1, 0, 1, 0, 1, 0],\n",
    "                   [0, 0, 0, 0, 0, 1, 0, 0, 0, 0],\n",
    "                   [0, 0, 0, 0, 1, 0, 0, 0, 0, 0],\n",
    "                   [0, 0, 0, 0, 0, 0, 0, 0, 0, 0],\n",
    "                   [0, 0, 0, 0, 1, 0, 0, 0, 1, 0],\n",
    "                   [0, 0, 0, 0, 0, 0, 1, 1, 0, 0]])\n",
    "\n",
    "bomb_map = bomb_mapping(grid_1)\n",
    "print(bomb_map)\n",
    "[[0 0 1 1 1 1 0 1 1 1]\n",
    " [1 1 2 2 2 1 0 1 2 2]\n",
    " [1 0 1 0 1 1 1 0 0 0]\n",
    " [1 2 2 2 2 2 2 2 1 1]\n",
    " [0 1 0 2 2 4 2 2 0 1]\n",
    " [0 1 1 3 3 3 2 2 1 1]\n",
    " [0 0 0 1 1 2 1 0 0 0]\n",
    " [0 0 0 2 2 2 0 1 1 1]\n",
    " [0 0 0 1 0 2 2 3 1 1]\n",
    " [0 0 0 1 1 2 1 2 2 1]]\n",
    "\n",
    "\n",
    "# Exemple 2\n",
    "grid_2 = np.array([[0, 0, 0, 0, 0, 0, 0, 0, 0, 0],\n",
    "                   [0, 0, 0, 0, 0, 0, 0, 0, 0, 0],\n",
    "                   [0, 1, 0, 0, 0, 0, 0, 0, 0, 0],\n",
    "                   [0, 0, 0, 0, 0, 1, 0, 0, 0, 0],\n",
    "                   [0, 0, 1, 0, 1, 0, 1, 0, 0, 0],\n",
    "                   [0, 0, 1, 0, 0, 1, 0, 0, 0, 0],\n",
    "                   [0, 1, 1, 0, 1, 0, 0, 0, 0, 0],\n",
    "                   [0, 1, 1, 0, 0, 0, 0, 0, 0, 0],\n",
    "                   [1, 1, 0, 0, 1, 0, 0, 0, 1, 0],\n",
    "                   [0, 0, 0, 0, 0, 0, 1, 1, 0, 0]])\n",
    "bomb_map_2 = bomb_mapping(grid_2)\n",
    "print(bomb_map_2)\n",
    "[[0 0 0 0 0 0 0 0 0 0]\n",
    " [1 1 1 0 0 0 0 0 0 0]\n",
    " [1 0 1 0 1 1 1 0 0 0]\n",
    " [1 2 2 2 2 2 2 1 0 0]\n",
    " [0 2 1 3 2 4 2 1 0 0]\n",
    " [1 4 3 5 3 3 2 1 0 0]\n",
    " [2 4 4 4 1 2 1 0 0 0]\n",
    " [4 5 4 4 2 2 0 1 1 1]\n",
    " [2 3 3 2 0 2 2 3 1 1]\n",
    " [2 2 1 1 1 2 1 2 2 1]]\n",
    "```\n",
    "\n",
    "---"
   ]
  },
  {
   "cell_type": "code",
   "execution_count": null,
   "id": "b5c329cc",
   "metadata": {},
   "outputs": [],
   "source": [
    "import numpy as np\n",
    "\n",
    "#... Votre solution (cette cellule est au format Python)...\n",
    "def bomb_mapping(grid: np.array) -> np.array:\n",
    "    \"\"\" Coder votre fonction ici\n",
    "    \"\"\"\n",
    "    pass"
   ]
  },
  {
   "cell_type": "markdown",
   "id": "57c84e30",
   "metadata": {},
   "source": [
    "---\n",
    "---\n",
    "<a id='ss-section-3'></a>\n",
    "## Problème ouvert\n",
    "\n",
    "Le but de ce problème est de faire un programme permettant de détecter et dénombrer les différents *\"blobs\"* au sein d'images fournies (`\"white_blobs_black_bg.png\"` et `\"white_blobs_black_bg_2.png\"`) avec ce notebook python.\n",
    "\n",
    "![image_blobs_1](white_blobs_black_bg_1.png)\n",
    "![image_blobs_2](white_blobs_black_bg_2.png)\n",
    "\n",
    "Pour cela vous êtes libre d'utiliser les librairies python que vous souhaité.\n",
    "\n",
    "En fonction de vos connaissances actuelles et du hasard au cours de votre recherche, il se peut que vous tombiez rapidement sur des fonctions vous permettant de réaliser les différentes tâches en quelques lignes de codes. Si ce n'est pas le cas, ne vous inquiétez pas, prenez le temps de décomposer les différentes tâches:\n",
    "* détection\n",
    "* dénombrement\n",
    "\n",
    "Pour rappel, vous n'est pas évalué uniquement sur votre capacité à réussir mais sur votre démarche, la clarté de votre code et votre capacité à assimiler et expliquer ce que votre code fait (ainsi les commentaires au sein de votre code sont très appréciés).\n",
    "\n",
    "À titre d'illustration, voici la représentation de l'étape de détection des blobs pour les 2 images:\n",
    "\n",
    "![image_detection_blobs_1](blobs_detect_img_bw_1.png)\n",
    "![image_detection_blobs_2](blobs_detect_img_bw_2.png)\n",
    "\n",
    "Comme vous pouvez le voir, nous ne vous demandons pas que la detection soit absolument parfaite en ne coupant pas de blobs. Ce n'est pas grave non plus si quelques blobs sont manqués.\n",
    "\n",
    "Une fonction permettant de dénombrer le nombre de blobs donne:\n",
    "* pour la première image: $13$ blobs\n",
    "* pour la seconde image: $16$ blobs"
   ]
  },
  {
   "cell_type": "code",
   "execution_count": null,
   "id": "a3856eb1",
   "metadata": {},
   "outputs": [],
   "source": [
    "# En fonction si vous utiliser conda ou pip pour votre gestion de librairie python décommenter les 3 premières lignes ou les 3 dernières\n",
    "\n",
    "# %pip3 install matplotlib\n",
    "# %pip3 install numpy\n",
    "# %pip3 install opencv-python\n",
    "# %pip install scikit-image\n",
    "\n",
    "# %conda install -c conda-forge matplotlib\n",
    "# %conda install numpy\n",
    "# %conda install -c conda-forge opencv\n",
    "# %conda install scikit-image"
   ]
  },
  {
   "cell_type": "code",
   "execution_count": null,
   "id": "0bbe50d7",
   "metadata": {},
   "outputs": [],
   "source": [
    "import matplotlib.pyplot as plt\n",
    "import matplotlib.image as mpimg\n",
    "import numpy as np\n",
    "import cv2\n",
    "import skimage"
   ]
  },
  {
   "cell_type": "code",
   "execution_count": null,
   "id": "31b2b3e4",
   "metadata": {},
   "outputs": [],
   "source": [
    "img_1 = mpimg.imread('white_blobs_black_bg_1.png')\n",
    "img_2 = mpimg.imread('white_blobs_black_bg_2.png')\n",
    "\n",
    "print(\"shape de l'image_1 RGB: \", img_1.shape)\n",
    "print(\"shape de l'image_2 RGB: \", img_2.shape)\n",
    "# L'output est un numpy array de 200 x 200 x 3 qui correspond à 3 'tableaux' \n",
    "# de 200 pixels de haut sur 200 pixels de large pour les 3 canaux de couleurs Rouge, Vert Bleu\n",
    "\n",
    "# Conversion de img (200, 200, 3) en img_bw (200, 200)\n",
    "img_bw_1 = cv2.cvtColor(img_1, cv2.COLOR_RGB2GRAY)\n",
    "img_bw_2 = cv2.cvtColor(img_2, cv2.COLOR_RGB2GRAY)\n",
    "print(\"shape de l'image_1 niveau de gris: \", img_bw_1.shape)\n",
    "print(\"shape de l'image_2 niveau de gris: \", img_bw_2.shape)"
   ]
  },
  {
   "cell_type": "code",
   "execution_count": null,
   "id": "49abcded",
   "metadata": {},
   "outputs": [],
   "source": [
    "plt.imshow(img_bw_1, cmap='Greys_r')"
   ]
  },
  {
   "cell_type": "code",
   "execution_count": null,
   "id": "ee37edbb",
   "metadata": {},
   "outputs": [],
   "source": [
    "plt.imshow(img_bw_2, cmap='Greys_r')"
   ]
  },
  {
   "cell_type": "code",
   "execution_count": null,
   "id": "d883439d",
   "metadata": {},
   "outputs": [],
   "source": [
    "# À vous de jouer !"
   ]
  },
  {
   "cell_type": "code",
   "execution_count": null,
   "id": "b38b037c-43db-4948-92d6-c716c6f13366",
   "metadata": {},
   "outputs": [],
   "source": []
  }
 ],
 "metadata": {
  "kernelspec": {
   "display_name": "Python 3 (ipykernel)",
   "language": "python",
   "name": "python3"
  },
  "language_info": {
   "codemirror_mode": {
    "name": "ipython",
    "version": 3
   },
   "file_extension": ".py",
   "mimetype": "text/x-python",
   "name": "python",
   "nbconvert_exporter": "python",
   "pygments_lexer": "ipython3",
   "version": "3.8.10"
  }
 },
 "nbformat": 4,
 "nbformat_minor": 5
}
